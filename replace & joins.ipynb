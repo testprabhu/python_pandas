{
 "cells": [
  {
   "cell_type": "code",
   "execution_count": 1,
   "id": "44f3329b",
   "metadata": {},
   "outputs": [],
   "source": [
    "import pandas as pd\n",
    "\n",
    "# Customers DataFrame\n",
    "customers = pd.DataFrame({\n",
    "    'CustomerID': [1, 2, 3, 4],\n",
    "    'Name': ['Alice', 'Bob', 'Charlie', 'David']\n",
    "})\n",
    "\n",
    "# Orders DataFrame\n",
    "orders = pd.DataFrame({\n",
    "    'OrderID': [101, 102, 103, 104],\n",
    "    'CustomerID': [1, 1, 3, 5],\n",
    "    'Product': ['Laptop', 'Mouse', 'Keyboard', 'Monitor']\n",
    "})\n"
   ]
  },
  {
   "cell_type": "code",
   "execution_count": 2,
   "id": "3158a3d8",
   "metadata": {},
   "outputs": [
    {
     "name": "stdout",
     "output_type": "stream",
     "text": [
      "   CustomerID     Name  OrderID   Product\n",
      "0           1    Alice      101    Laptop\n",
      "1           1    Alice      102     Mouse\n",
      "2           3  Charlie      103  Keyboard\n"
     ]
    }
   ],
   "source": [
    "inner_join = pd.merge(customers, orders, on='CustomerID', how='inner')\n",
    "print(inner_join)\n"
   ]
  },
  {
   "cell_type": "code",
   "execution_count": null,
   "id": "5838f078",
   "metadata": {},
   "outputs": [
    {
     "name": "stdout",
     "output_type": "stream",
     "text": [
      "   CustomerID     Name  OrderID   Product\n",
      "0           1    Alice    101.0    Laptop\n",
      "1           1    Alice    102.0     Mouse\n",
      "2           2      Bob      NaN       NaN\n",
      "3           3  Charlie    103.0  Keyboard\n",
      "4           4    David      NaN       NaN\n"
     ]
    }
   ],
   "source": [
    "left_join = pd.merge(customers, orders, on='CustomerID', how='left')\n",
    "print(left_join)\n"
   ]
  },
  {
   "cell_type": "code",
   "execution_count": 4,
   "id": "af885141",
   "metadata": {},
   "outputs": [
    {
     "name": "stdout",
     "output_type": "stream",
     "text": [
      "   CustomerID     Name  OrderID   Product\n",
      "0           1    Alice      101    Laptop\n",
      "1           1    Alice      102     Mouse\n",
      "2           3  Charlie      103  Keyboard\n",
      "3           5      NaN      104   Monitor\n"
     ]
    }
   ],
   "source": [
    "right_join = pd.merge(customers, orders, on='CustomerID', how='right')\n",
    "print(right_join)\n"
   ]
  },
  {
   "cell_type": "code",
   "execution_count": 5,
   "id": "ca2680a9",
   "metadata": {},
   "outputs": [
    {
     "name": "stdout",
     "output_type": "stream",
     "text": [
      "   CustomerID     Name  OrderID   Product\n",
      "0           1    Alice    101.0    Laptop\n",
      "1           1    Alice    102.0     Mouse\n",
      "2           2      Bob      NaN       NaN\n",
      "3           3  Charlie    103.0  Keyboard\n",
      "4           4    David      NaN       NaN\n",
      "5           5      NaN    104.0   Monitor\n"
     ]
    }
   ],
   "source": [
    "full_join = pd.merge(customers, orders, on='CustomerID', how='outer')\n",
    "print(full_join)\n"
   ]
  },
  {
   "cell_type": "code",
   "execution_count": 11,
   "id": "6585eace",
   "metadata": {},
   "outputs": [],
   "source": [
    "import pandas as pd\n",
    "\n",
    "# Employee data (internal ID system)\n",
    "employees = pd.DataFrame({\n",
    "    'emp_id': [101, 102, 103],\n",
    "    'name': ['Alice', 'Bob', 'Charlie']\n",
    "})\n",
    "\n",
    "# Payroll system (external ID system)\n",
    "payroll = pd.DataFrame({\n",
    "    'employee_number': [101, 102, 104],\n",
    "    'salary': [70000, 80000, 60000]\n",
    "})\n"
   ]
  },
  {
   "cell_type": "code",
   "execution_count": 12,
   "id": "c9217890",
   "metadata": {},
   "outputs": [
    {
     "name": "stdout",
     "output_type": "stream",
     "text": [
      "   emp_id     name  employee_number   salary\n",
      "0     101    Alice            101.0  70000.0\n",
      "1     102      Bob            102.0  80000.0\n",
      "2     103  Charlie              NaN      NaN\n"
     ]
    }
   ],
   "source": [
    "result = pd.merge(employees, payroll,\n",
    "                  left_on='emp_id',\n",
    "                  right_on='employee_number',\n",
    "                  how='left')\n",
    "print(result)\n"
   ]
  },
  {
   "cell_type": "code",
   "execution_count": 13,
   "id": "98af3586",
   "metadata": {},
   "outputs": [
    {
     "name": "stdout",
     "output_type": "stream",
     "text": [
      "   emp_id   name  employee_number  salary\n",
      "0     101  Alice              101   70000\n",
      "1     102    Bob              102   80000\n"
     ]
    }
   ],
   "source": [
    "inner_result = pd.merge(employees, payroll,\n",
    "                        left_on='emp_id',\n",
    "                        right_on='employee_number',\n",
    "                        how='inner')\n",
    "print(inner_result)\n"
   ]
  },
  {
   "cell_type": "code",
   "execution_count": 14,
   "id": "403a8a31",
   "metadata": {},
   "outputs": [
    {
     "name": "stdout",
     "output_type": "stream",
     "text": [
      "   emp_id     name   salary\n",
      "0     101    Alice  70000.0\n",
      "1     102      Bob  80000.0\n",
      "2     103  Charlie      NaN\n"
     ]
    }
   ],
   "source": [
    "result = result.drop(columns='employee_number')\n",
    "print(result)"
   ]
  },
  {
   "cell_type": "code",
   "execution_count": 20,
   "id": "c8ba7aea",
   "metadata": {},
   "outputs": [
    {
     "name": "stdout",
     "output_type": "stream",
     "text": [
      "      Name   Age   Salary\n",
      "0    Alice  25.0  50000.0\n",
      "1      Bob   NaN  60000.0\n",
      "2  Charlie  30.0      NaN\n",
      "3      NaN  22.0  45000.0\n",
      "4      Eve   NaN  52000.0\n"
     ]
    }
   ],
   "source": [
    "import pandas as pd\n",
    "import numpy as np\n",
    "\n",
    "data = pd.DataFrame({\n",
    "    'Name': ['Alice', 'Bob', 'Charlie', np.nan, 'Eve'],\n",
    "    'Age': [25, np.nan, 30, 22, np.nan],\n",
    "    'Salary': [50000, 60000, np.nan, 45000, 52000]\n",
    "})\n",
    "print(data)\n"
   ]
  },
  {
   "cell_type": "code",
   "execution_count": 16,
   "id": "63b10853",
   "metadata": {},
   "outputs": [
    {
     "name": "stdout",
     "output_type": "stream",
     "text": [
      "      Name   Age   Salary\n",
      "0    Alice  25.0  50000.0\n",
      "1      Bob   NaN  60000.0\n",
      "2  Charlie  30.0      NaN\n",
      "3      NaN  22.0  45000.0\n",
      "4      Eve   NaN  52000.0\n"
     ]
    }
   ],
   "source": [
    "data.isnull()\n",
    "data.isnull().sum()\n",
    "print(data)"
   ]
  },
  {
   "cell_type": "code",
   "execution_count": 17,
   "id": "ac3745a0",
   "metadata": {},
   "outputs": [
    {
     "name": "stdout",
     "output_type": "stream",
     "text": [
      "      Name   Age   Salary\n",
      "0    Alice  25.0  50000.0\n",
      "1      Bob   NaN  60000.0\n",
      "2  Charlie  30.0      NaN\n",
      "3      NaN  22.0  45000.0\n",
      "4      Eve   NaN  52000.0\n"
     ]
    }
   ],
   "source": [
    "data.dropna(axis=1)\n",
    "print(data)\n"
   ]
  },
  {
   "cell_type": "code",
   "execution_count": 18,
   "id": "471b586a",
   "metadata": {},
   "outputs": [
    {
     "name": "stdout",
     "output_type": "stream",
     "text": [
      "      Name        Age   Salary\n",
      "0    Alice  25.000000  50000.0\n",
      "1      Bob  25.666667  60000.0\n",
      "2  Charlie  30.000000  51000.0\n",
      "3      NaN  22.000000  45000.0\n",
      "4      Eve  25.666667  52000.0\n"
     ]
    },
    {
     "name": "stderr",
     "output_type": "stream",
     "text": [
      "C:\\Users\\sarav\\AppData\\Local\\Temp\\ipykernel_2652\\3389042592.py:1: FutureWarning: A value is trying to be set on a copy of a DataFrame or Series through chained assignment using an inplace method.\n",
      "The behavior will change in pandas 3.0. This inplace method will never work because the intermediate object on which we are setting values always behaves as a copy.\n",
      "\n",
      "For example, when doing 'df[col].method(value, inplace=True)', try using 'df.method({col: value}, inplace=True)' or df[col] = df[col].method(value) instead, to perform the operation inplace on the original object.\n",
      "\n",
      "\n",
      "  data['Age'].fillna(data['Age'].mean(), inplace=True)\n",
      "C:\\Users\\sarav\\AppData\\Local\\Temp\\ipykernel_2652\\3389042592.py:2: FutureWarning: A value is trying to be set on a copy of a DataFrame or Series through chained assignment using an inplace method.\n",
      "The behavior will change in pandas 3.0. This inplace method will never work because the intermediate object on which we are setting values always behaves as a copy.\n",
      "\n",
      "For example, when doing 'df[col].method(value, inplace=True)', try using 'df.method({col: value}, inplace=True)' or df[col] = df[col].method(value) instead, to perform the operation inplace on the original object.\n",
      "\n",
      "\n",
      "  data['Salary'].fillna(data['Salary'].median(), inplace=True)\n"
     ]
    }
   ],
   "source": [
    "data['Age'].fillna(data['Age'].mean(), inplace=True)\n",
    "data['Salary'].fillna(data['Salary'].median(), inplace=True)\n",
    "print(data)"
   ]
  },
  {
   "cell_type": "code",
   "execution_count": 25,
   "id": "f5348509",
   "metadata": {},
   "outputs": [
    {
     "name": "stdout",
     "output_type": "stream",
     "text": [
      "      Name      Age   Salary\n",
      "0    Alice     25.0  50000.0\n",
      "1      Bob  Missing  60000.0\n",
      "2  Charlie     30.0  Missing\n",
      "3  Missing     22.0  45000.0\n",
      "4      Eve  Missing  52000.0\n"
     ]
    }
   ],
   "source": [
    "data.replace(to_replace=np.nan, value='Missing', inplace=True)\n",
    "print(data)"
   ]
  },
  {
   "cell_type": "code",
   "execution_count": 22,
   "id": "a9737492",
   "metadata": {},
   "outputs": [
    {
     "name": "stdout",
     "output_type": "stream",
     "text": [
      "    Name   Age   Salary\n",
      "0  Alice  25.0  50000.0\n",
      "1    Bob   NaN  60000.0\n",
      "3    NaN  22.0  45000.0\n",
      "4    Eve   NaN  52000.0\n"
     ]
    }
   ],
   "source": [
    "filtered = data[data['Salary'].notnull()]\n",
    "print(filtered)"
   ]
  }
 ],
 "metadata": {
  "kernelspec": {
   "display_name": "Python 3",
   "language": "python",
   "name": "python3"
  },
  "language_info": {
   "codemirror_mode": {
    "name": "ipython",
    "version": 3
   },
   "file_extension": ".py",
   "mimetype": "text/x-python",
   "name": "python",
   "nbconvert_exporter": "python",
   "pygments_lexer": "ipython3",
   "version": "3.10.11"
  }
 },
 "nbformat": 4,
 "nbformat_minor": 5
}
