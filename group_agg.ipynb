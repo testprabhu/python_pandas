{
 "cells": [
  {
   "cell_type": "code",
   "execution_count": 1,
   "id": "212c7413",
   "metadata": {},
   "outputs": [],
   "source": [
    "import pandas as pd\n",
    "\n",
    "df = pd.DataFrame({\n",
    "    'Department': ['HR', 'IT', 'IT', 'Finance', 'HR', 'Finance'],\n",
    "    'Employee': ['Alice', 'Bob', 'Charlie', 'David', 'Eve', 'Frank'],\n",
    "    'Salary': [50000, 60000, 65000, 70000, 52000, 72000],\n",
    "    'Age': [25, 30, 28, 45, 26, 50]\n",
    "})\n"
   ]
  },
  {
   "cell_type": "code",
   "execution_count": 2,
   "id": "7503866d",
   "metadata": {},
   "outputs": [
    {
     "name": "stdout",
     "output_type": "stream",
     "text": [
      "Department\n",
      "Finance    142000\n",
      "HR         102000\n",
      "IT         125000\n",
      "Name: Salary, dtype: int64\n"
     ]
    }
   ],
   "source": [
    "print(df.groupby('Department')['Salary'].sum())\n"
   ]
  },
  {
   "cell_type": "code",
   "execution_count": 3,
   "id": "9174d31c",
   "metadata": {},
   "outputs": [
    {
     "name": "stdout",
     "output_type": "stream",
     "text": [
      "              min    max     mean\n",
      "Department                       \n",
      "Finance     70000  72000  71000.0\n",
      "HR          50000  52000  51000.0\n",
      "IT          60000  65000  62500.0\n"
     ]
    }
   ],
   "source": [
    "print(df.groupby('Department')['Salary'].agg(['min', 'max', 'mean']))\n"
   ]
  },
  {
   "cell_type": "code",
   "execution_count": 4,
   "id": "ba45a501",
   "metadata": {},
   "outputs": [
    {
     "name": "stdout",
     "output_type": "stream",
     "text": [
      "Department  Age\n",
      "Finance     45     70000.0\n",
      "            50     72000.0\n",
      "HR          25     50000.0\n",
      "            26     52000.0\n",
      "IT          28     65000.0\n",
      "            30     60000.0\n",
      "Name: Salary, dtype: float64\n"
     ]
    }
   ],
   "source": [
    "print(df.groupby(['Department', 'Age'])['Salary'].mean())\n"
   ]
  },
  {
   "cell_type": "code",
   "execution_count": 5,
   "id": "effee7cb",
   "metadata": {},
   "outputs": [
    {
     "name": "stdout",
     "output_type": "stream",
     "text": [
      "            Salary          Age\n",
      "               sum     mean max\n",
      "Department                     \n",
      "Finance     142000  71000.0  50\n",
      "HR          102000  51000.0  26\n",
      "IT          125000  62500.0  30\n"
     ]
    }
   ],
   "source": [
    "df_dep = df.groupby('Department').agg({\n",
    "    'Salary': ['sum', 'mean'],\n",
    "    'Age': 'max'\n",
    "})\n",
    "print(df_dep)"
   ]
  },
  {
   "cell_type": "code",
   "execution_count": 6,
   "id": "0142d04a",
   "metadata": {},
   "outputs": [
    {
     "data": {
      "text/plain": [
       "Department\n",
       "Finance    2\n",
       "HR         2\n",
       "IT         2\n",
       "Name: Employee, dtype: int64"
      ]
     },
     "execution_count": 6,
     "metadata": {},
     "output_type": "execute_result"
    }
   ],
   "source": [
    "df.groupby('Department')['Employee'].count()\n"
   ]
  },
  {
   "cell_type": "code",
   "execution_count": 7,
   "id": "7f5c8ef2",
   "metadata": {},
   "outputs": [
    {
     "name": "stdout",
     "output_type": "stream",
     "text": [
      "  Department  Salary\n",
      "0    Finance  142000\n",
      "1         HR  102000\n",
      "2         IT  125000\n"
     ]
    }
   ],
   "source": [
    "grouped = df.groupby('Department')['Salary'].sum().reset_index()\n",
    "print(grouped)\n"
   ]
  },
  {
   "cell_type": "code",
   "execution_count": 8,
   "id": "d436bbad",
   "metadata": {},
   "outputs": [
    {
     "name": "stdout",
     "output_type": "stream",
     "text": [
      "Department\n",
      "Finance    71000.0\n",
      "IT         62500.0\n",
      "Name: Salary, dtype: float64\n"
     ]
    }
   ],
   "source": [
    "avg_salary = df.groupby('Department')['Salary'].mean()\n",
    "high_pay_depts = avg_salary[avg_salary > 60000]\n",
    "print(high_pay_depts)"
   ]
  }
 ],
 "metadata": {
  "kernelspec": {
   "display_name": "Python 3",
   "language": "python",
   "name": "python3"
  },
  "language_info": {
   "codemirror_mode": {
    "name": "ipython",
    "version": 3
   },
   "file_extension": ".py",
   "mimetype": "text/x-python",
   "name": "python",
   "nbconvert_exporter": "python",
   "pygments_lexer": "ipython3",
   "version": "3.10.11"
  }
 },
 "nbformat": 4,
 "nbformat_minor": 5
}
