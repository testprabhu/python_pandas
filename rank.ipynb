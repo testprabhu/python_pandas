{
 "cells": [
  {
   "cell_type": "code",
   "execution_count": 27,
   "id": "e463bd12",
   "metadata": {},
   "outputs": [],
   "source": [
    "import pandas as pd\n",
    "\n",
    "data = pd.DataFrame({\n",
    "    'Department': ['Sales', 'Sales', 'Sales', 'HR', 'HR', 'IT'],\n",
    "    'Employee': ['Alice', 'Bob', 'Charlie', 'David', 'Eve', 'Frank'],\n",
    "    'Salary': [50000, 50000, 70000, 55000, 55000, 65000]\n",
    "})\n"
   ]
  },
  {
   "cell_type": "code",
   "execution_count": 28,
   "id": "4fddefc6",
   "metadata": {},
   "outputs": [
    {
     "name": "stdout",
     "output_type": "stream",
     "text": [
      "  Department Employee  Salary  Row_Number\n",
      "0      Sales    Alice   50000         1.0\n",
      "1      Sales      Bob   50000         2.0\n",
      "2      Sales  Charlie   70000         3.0\n",
      "3         HR    David   55000         1.0\n",
      "4         HR      Eve   55000         2.0\n",
      "5         IT    Frank   65000         1.0\n"
     ]
    }
   ],
   "source": [
    "data['Row_Number'] = data.groupby('Department')['Salary'].rank(method='first', ascending=True)\n",
    "print(data)"
   ]
  },
  {
   "cell_type": "code",
   "execution_count": 29,
   "id": "10a15a8d",
   "metadata": {},
   "outputs": [
    {
     "name": "stdout",
     "output_type": "stream",
     "text": [
      "  Department Employee  Salary  Row_Number  Rank\n",
      "0      Sales    Alice   50000         1.0   1.0\n",
      "1      Sales      Bob   50000         2.0   1.0\n",
      "2      Sales  Charlie   70000         3.0   3.0\n",
      "3         HR    David   55000         1.0   1.0\n",
      "4         HR      Eve   55000         2.0   1.0\n",
      "5         IT    Frank   65000         1.0   1.0\n"
     ]
    }
   ],
   "source": [
    "data['Rank'] = data.groupby('Department')['Salary'].rank(method='min', ascending=True)\n",
    "print(data)"
   ]
  },
  {
   "cell_type": "code",
   "execution_count": 30,
   "id": "490fa75d",
   "metadata": {},
   "outputs": [
    {
     "name": "stdout",
     "output_type": "stream",
     "text": [
      "  Department Employee  Salary  Row_Number  Rank  Dense_Rank\n",
      "0      Sales    Alice   50000         1.0   1.0         1.0\n",
      "1      Sales      Bob   50000         2.0   1.0         1.0\n",
      "2      Sales  Charlie   70000         3.0   3.0         2.0\n",
      "3         HR    David   55000         1.0   1.0         1.0\n",
      "4         HR      Eve   55000         2.0   1.0         1.0\n",
      "5         IT    Frank   65000         1.0   1.0         1.0\n"
     ]
    }
   ],
   "source": [
    "data['Dense_Rank'] = data.groupby('Department')['Salary'].rank(method='dense', ascending=True)\n",
    "print(data)"
   ]
  }
 ],
 "metadata": {
  "kernelspec": {
   "display_name": "Python 3",
   "language": "python",
   "name": "python3"
  },
  "language_info": {
   "codemirror_mode": {
    "name": "ipython",
    "version": 3
   },
   "file_extension": ".py",
   "mimetype": "text/x-python",
   "name": "python",
   "nbconvert_exporter": "python",
   "pygments_lexer": "ipython3",
   "version": "3.10.11"
  }
 },
 "nbformat": 4,
 "nbformat_minor": 5
}
