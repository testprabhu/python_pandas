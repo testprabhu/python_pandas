{
 "cells": [
  {
   "cell_type": "code",
   "execution_count": 1,
   "id": "eaad2627",
   "metadata": {},
   "outputs": [
    {
     "name": "stdout",
     "output_type": "stream",
     "text": [
      "   user_id  login_time      login_datetime  login_date\n",
      "0        1  1717470637 2024-06-04 03:10:37  2024-06-04\n",
      "1        2  1717473737 2024-06-04 04:02:17  2024-06-04\n",
      "2        3  1717476837 2024-06-04 04:53:57  2024-06-04\n"
     ]
    }
   ],
   "source": [
    "import pandas as pd\n",
    "\n",
    "# Sample DataFrame with UNIX timestamps\n",
    "df = pd.DataFrame({\n",
    "    'user_id': [1, 2, 3],\n",
    "    'login_time': [1717470637, 1717473737, 1717476837]\n",
    "})\n",
    "\n",
    "# Convert UNIX timestamp to datetime\n",
    "df['login_datetime'] = pd.to_datetime(df['login_time'], unit='s')\n",
    "\n",
    "# Optional: Format datetime column to just date (YYYY-MM-DD)\n",
    "df['login_date'] = df['login_datetime'].dt.date\n",
    "\n",
    "print(df)\n"
   ]
  }
 ],
 "metadata": {
  "kernelspec": {
   "display_name": "Python 3",
   "language": "python",
   "name": "python3"
  },
  "language_info": {
   "codemirror_mode": {
    "name": "ipython",
    "version": 3
   },
   "file_extension": ".py",
   "mimetype": "text/x-python",
   "name": "python",
   "nbconvert_exporter": "python",
   "pygments_lexer": "ipython3",
   "version": "3.10.11"
  }
 },
 "nbformat": 4,
 "nbformat_minor": 5
}
