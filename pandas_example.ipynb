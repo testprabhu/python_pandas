{
 "cells": [
  {
   "cell_type": "code",
   "execution_count": null,
   "id": "2b572127",
   "metadata": {},
   "outputs": [
    {
     "name": "stdout",
     "output_type": "stream",
     "text": [
      "0    10\n",
      "1    20\n",
      "2    30\n",
      "3    40\n",
      "dtype: int64\n"
     ]
    }
   ],
   "source": [
    "#map() – Element-wise operation on a Series\n",
    "#Used only with a Pandas Series (i.e., a single column).\n",
    "import pandas as pd\n",
    "\n",
    "# Sample Series\n",
    "s = pd.Series([1, 2, 3, 4])\n",
    "\n",
    "# Using map with a lambda function\n",
    "s_mapped = s.map(lambda x: x * 10)\n",
    "\n",
    "print(s_mapped)"
   ]
  },
  {
   "cell_type": "code",
   "execution_count": 5,
   "id": "8bbc4277",
   "metadata": {},
   "outputs": [
    {
     "name": "stdout",
     "output_type": "stream",
     "text": [
      "   A   B\n",
      "0  2  20\n",
      "1  4  40\n",
      "2  6  60\n"
     ]
    },
    {
     "name": "stderr",
     "output_type": "stream",
     "text": [
      "C:\\Users\\sarav\\AppData\\Local\\Temp\\ipykernel_23276\\2319541270.py:10: FutureWarning: DataFrame.applymap has been deprecated. Use DataFrame.map instead.\n",
      "  df_applied = df.applymap(lambda x: x * 2)## DataFrame.applymap has been deprecated. Use DataFrame.map instead\n"
     ]
    }
   ],
   "source": [
    "#applymap() – Element-wise operation on a DataFrame\n",
    "#Used only with a DataFrame, and applies the function to each element.\n",
    "\n",
    "df = pd.DataFrame({\n",
    "    'A': [1, 2, 3],\n",
    "    'B': [10, 20, 30]\n",
    "})\n",
    "\n",
    "# Multiply each element by 2\n",
    "df_applied = df.applymap(lambda x: x * 2)## DataFrame.applymap has been deprecated. Use DataFrame.map instead\n",
    "\n",
    "print(df_applied)"
   ]
  },
  {
   "cell_type": "code",
   "execution_count": 7,
   "id": "a78ce691",
   "metadata": {},
   "outputs": [
    {
     "name": "stdout",
     "output_type": "stream",
     "text": [
      "A     6\n",
      "B    15\n",
      "dtype: int64\n",
      "0    5\n",
      "1    7\n",
      "2    9\n",
      "dtype: int64\n"
     ]
    }
   ],
   "source": [
    "#apply() – Row-wise or column-wise operation\n",
    "#axis=0 (default): apply function to each column\n",
    "#axis=1: apply function to each row\n",
    "\n",
    "df = pd.DataFrame({\n",
    "    'A': [1, 2, 3],\n",
    "    'B': [4, 5, 6]\n",
    "})\n",
    "\n",
    "# Sum of each column\n",
    "col_sum = df.apply(sum, axis=0)\n",
    "print(col_sum)\n",
    "\n",
    "# Sum of each row\n",
    "row_sum = df.apply(sum, axis=1)\n",
    "print(row_sum)"
   ]
  }
 ],
 "metadata": {
  "kernelspec": {
   "display_name": "Python 3",
   "language": "python",
   "name": "python3"
  },
  "language_info": {
   "codemirror_mode": {
    "name": "ipython",
    "version": 3
   },
   "file_extension": ".py",
   "mimetype": "text/x-python",
   "name": "python",
   "nbconvert_exporter": "python",
   "pygments_lexer": "ipython3",
   "version": "3.10.11"
  }
 },
 "nbformat": 4,
 "nbformat_minor": 5
}
