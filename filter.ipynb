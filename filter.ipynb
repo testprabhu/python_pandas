{
 "cells": [
  {
   "cell_type": "code",
   "execution_count": 1,
   "id": "550d306b",
   "metadata": {},
   "outputs": [],
   "source": [
    "import pandas as pd\n",
    "\n",
    "df = pd.DataFrame({\n",
    "    'Name': ['Alice', 'Bob', 'Charlie', 'David', 'Eve'],\n",
    "    'Age': [25, 35, 30, 40, 22],\n",
    "    'Salary': [50000, 60000, 55000, 65000, 48000]\n",
    "})\n"
   ]
  },
  {
   "cell_type": "code",
   "execution_count": 2,
   "id": "23372ca7",
   "metadata": {},
   "outputs": [
    {
     "name": "stdout",
     "output_type": "stream",
     "text": [
      "    Name  Age  Salary\n",
      "1    Bob   35   60000\n",
      "3  David   40   65000\n"
     ]
    }
   ],
   "source": [
    "filtered_df = df[df['Age'] > 30]\n",
    "print(filtered_df)\n"
   ]
  },
  {
   "cell_type": "code",
   "execution_count": 3,
   "id": "37b5af81",
   "metadata": {},
   "outputs": [
    {
     "name": "stdout",
     "output_type": "stream",
     "text": [
      "    Name  Age  Salary\n",
      "3  David   40   65000\n"
     ]
    }
   ],
   "source": [
    "filtered_df = df[(df['Age'] > 30) & (df['Salary'] > 60000)]\n",
    "print(filtered_df)"
   ]
  },
  {
   "cell_type": "code",
   "execution_count": 4,
   "id": "b7931d4e",
   "metadata": {},
   "outputs": [
    {
     "name": "stdout",
     "output_type": "stream",
     "text": [
      "    Name  Age  Salary\n",
      "0  Alice   25   50000\n"
     ]
    }
   ],
   "source": [
    "print(df[df['Name'] == 'Alice'])"
   ]
  },
  {
   "cell_type": "code",
   "execution_count": 5,
   "id": "6a21baa2",
   "metadata": {},
   "outputs": [
    {
     "name": "stdout",
     "output_type": "stream",
     "text": [
      "Empty DataFrame\n",
      "Columns: [Name, Age, Salary]\n",
      "Index: []\n",
      "      Name  Age  Salary\n",
      "0    Alice   25   50000\n",
      "1      Bob   35   60000\n",
      "2  Charlie   30   55000\n",
      "3    David   40   65000\n",
      "4      Eve   22   48000\n"
     ]
    }
   ],
   "source": [
    "print(df[df['Salary'].isnull()])  # rows with missing salary\n",
    "print(df[df['Salary'].notnull()])  # rows with non-missing salary"
   ]
  },
  {
   "cell_type": "code",
   "execution_count": 6,
   "id": "9a31c77f",
   "metadata": {},
   "outputs": [
    {
     "name": "stdout",
     "output_type": "stream",
     "text": [
      "  Name  Age  Salary\n",
      "1  Bob   35   60000\n"
     ]
    }
   ],
   "source": [
    "print(df.query('Age > 30 and Salary < 65000'))"
   ]
  }
 ],
 "metadata": {
  "kernelspec": {
   "display_name": "Python 3",
   "language": "python",
   "name": "python3"
  },
  "language_info": {
   "codemirror_mode": {
    "name": "ipython",
    "version": 3
   },
   "file_extension": ".py",
   "mimetype": "text/x-python",
   "name": "python",
   "nbconvert_exporter": "python",
   "pygments_lexer": "ipython3",
   "version": "3.10.11"
  }
 },
 "nbformat": 4,
 "nbformat_minor": 5
}
